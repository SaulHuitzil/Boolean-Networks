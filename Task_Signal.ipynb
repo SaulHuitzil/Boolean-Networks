{
  "nbformat": 4,
  "nbformat_minor": 0,
  "metadata": {
    "colab": {
      "provenance": [],
      "authorship_tag": "ABX9TyPTgnx29qFEz5Rk0aKYqQXS",
      "include_colab_link": true
    },
    "kernelspec": {
      "name": "python3",
      "display_name": "Python 3"
    },
    "language_info": {
      "name": "python"
    }
  },
  "cells": [
    {
      "cell_type": "markdown",
      "metadata": {
        "id": "view-in-github",
        "colab_type": "text"
      },
      "source": [
        "<a href=\"https://colab.research.google.com/github/SaulHuitzil/Boolean-Networks/blob/main/Task_Signal.ipynb\" target=\"_parent\"><img src=\"https://colab.research.google.com/assets/colab-badge.svg\" alt=\"Open In Colab\"/></a>"
      ]
    },
    {
      "cell_type": "code",
      "source": [
        "# !pip install import-ipynb"
      ],
      "metadata": {
        "colab": {
          "base_uri": "https://localhost:8080/"
        },
        "id": "kWDnBn7Rnjof",
        "outputId": "75b5cfcf-df64-41a1-a8b5-abcab2964a8b"
      },
      "execution_count": 1,
      "outputs": [
        {
          "output_type": "stream",
          "name": "stdout",
          "text": [
            "Requirement already satisfied: import-ipynb in /usr/local/lib/python3.11/dist-packages (0.2)\n",
            "Requirement already satisfied: IPython in /usr/local/lib/python3.11/dist-packages (from import-ipynb) (7.34.0)\n",
            "Requirement already satisfied: nbformat in /usr/local/lib/python3.11/dist-packages (from import-ipynb) (5.10.4)\n",
            "Requirement already satisfied: setuptools>=18.5 in /usr/local/lib/python3.11/dist-packages (from IPython->import-ipynb) (75.1.0)\n",
            "Requirement already satisfied: jedi>=0.16 in /usr/local/lib/python3.11/dist-packages (from IPython->import-ipynb) (0.19.2)\n",
            "Requirement already satisfied: decorator in /usr/local/lib/python3.11/dist-packages (from IPython->import-ipynb) (4.4.2)\n",
            "Requirement already satisfied: pickleshare in /usr/local/lib/python3.11/dist-packages (from IPython->import-ipynb) (0.7.5)\n",
            "Requirement already satisfied: traitlets>=4.2 in /usr/local/lib/python3.11/dist-packages (from IPython->import-ipynb) (5.7.1)\n",
            "Requirement already satisfied: prompt-toolkit!=3.0.0,!=3.0.1,<3.1.0,>=2.0.0 in /usr/local/lib/python3.11/dist-packages (from IPython->import-ipynb) (3.0.48)\n",
            "Requirement already satisfied: pygments in /usr/local/lib/python3.11/dist-packages (from IPython->import-ipynb) (2.18.0)\n",
            "Requirement already satisfied: backcall in /usr/local/lib/python3.11/dist-packages (from IPython->import-ipynb) (0.2.0)\n",
            "Requirement already satisfied: matplotlib-inline in /usr/local/lib/python3.11/dist-packages (from IPython->import-ipynb) (0.1.7)\n",
            "Requirement already satisfied: pexpect>4.3 in /usr/local/lib/python3.11/dist-packages (from IPython->import-ipynb) (4.9.0)\n",
            "Requirement already satisfied: fastjsonschema>=2.15 in /usr/local/lib/python3.11/dist-packages (from nbformat->import-ipynb) (2.21.1)\n",
            "Requirement already satisfied: jsonschema>=2.6 in /usr/local/lib/python3.11/dist-packages (from nbformat->import-ipynb) (4.23.0)\n",
            "Requirement already satisfied: jupyter-core!=5.0.*,>=4.12 in /usr/local/lib/python3.11/dist-packages (from nbformat->import-ipynb) (5.7.2)\n",
            "Requirement already satisfied: parso<0.9.0,>=0.8.4 in /usr/local/lib/python3.11/dist-packages (from jedi>=0.16->IPython->import-ipynb) (0.8.4)\n",
            "Requirement already satisfied: attrs>=22.2.0 in /usr/local/lib/python3.11/dist-packages (from jsonschema>=2.6->nbformat->import-ipynb) (24.3.0)\n",
            "Requirement already satisfied: jsonschema-specifications>=2023.03.6 in /usr/local/lib/python3.11/dist-packages (from jsonschema>=2.6->nbformat->import-ipynb) (2024.10.1)\n",
            "Requirement already satisfied: referencing>=0.28.4 in /usr/local/lib/python3.11/dist-packages (from jsonschema>=2.6->nbformat->import-ipynb) (0.35.1)\n",
            "Requirement already satisfied: rpds-py>=0.7.1 in /usr/local/lib/python3.11/dist-packages (from jsonschema>=2.6->nbformat->import-ipynb) (0.22.3)\n",
            "Requirement already satisfied: platformdirs>=2.5 in /usr/local/lib/python3.11/dist-packages (from jupyter-core!=5.0.*,>=4.12->nbformat->import-ipynb) (4.3.6)\n",
            "Requirement already satisfied: ptyprocess>=0.5 in /usr/local/lib/python3.11/dist-packages (from pexpect>4.3->IPython->import-ipynb) (0.7.0)\n",
            "Requirement already satisfied: wcwidth in /usr/local/lib/python3.11/dist-packages (from prompt-toolkit!=3.0.0,!=3.0.1,<3.1.0,>=2.0.0->IPython->import-ipynb) (0.2.13)\n"
          ]
        }
      ]
    },
    {
      "cell_type": "code",
      "execution_count": 2,
      "metadata": {
        "colab": {
          "base_uri": "https://localhost:8080/"
        },
        "id": "8fGoEdy9nR2V",
        "outputId": "754fa0c8-3ab5-4fcf-e1ce-a657d40e9982"
      },
      "outputs": [
        {
          "output_type": "stream",
          "name": "stdout",
          "text": [
            "--2025-01-24 15:43:11--  https://raw.githubusercontent.com/SaulHuitzil/Boolean-Networks/refs/heads/main/Node.ipynb\n",
            "Resolving raw.githubusercontent.com (raw.githubusercontent.com)... 185.199.108.133, 185.199.109.133, 185.199.110.133, ...\n",
            "Connecting to raw.githubusercontent.com (raw.githubusercontent.com)|185.199.108.133|:443... connected.\n",
            "HTTP request sent, awaiting response... 200 OK\n",
            "Length: 307698 (300K) [text/plain]\n",
            "Saving to: ‘Node.ipynb’\n",
            "\n",
            "\rNode.ipynb            0%[                    ]       0  --.-KB/s               \rNode.ipynb          100%[===================>] 300.49K  --.-KB/s    in 0.04s   \n",
            "\n",
            "2025-01-24 15:43:12 (6.82 MB/s) - ‘Node.ipynb’ saved [307698/307698]\n",
            "\n",
            "--2025-01-24 15:43:13--  https://raw.githubusercontent.com/SaulHuitzil/Boolean-Networks/refs/heads/main/Boolean_Network.ipynb\n",
            "Resolving raw.githubusercontent.com (raw.githubusercontent.com)... 185.199.110.133, 185.199.108.133, 185.199.111.133, ...\n",
            "Connecting to raw.githubusercontent.com (raw.githubusercontent.com)|185.199.110.133|:443... connected.\n",
            "HTTP request sent, awaiting response... 200 OK\n",
            "Length: 24092 (24K) [text/plain]\n",
            "Saving to: ‘Boolean_Network.ipynb’\n",
            "\n",
            "Boolean_Network.ipy 100%[===================>]  23.53K  --.-KB/s    in 0s      \n",
            "\n",
            "2025-01-24 15:43:13 (95.3 MB/s) - ‘Boolean_Network.ipynb’ saved [24092/24092]\n",
            "\n"
          ]
        }
      ],
      "source": [
        "# !wget -O Node.ipynb https://raw.githubusercontent.com/SaulHuitzil/Boolean-Networks/refs/heads/main/Node.ipynb\n",
        "# !wget -O Boolean_Network.ipynb https://raw.githubusercontent.com/SaulHuitzil/Boolean-Networks/refs/heads/main/Boolean_Network.ipynb"
      ]
    },
    {
      "cell_type": "code",
      "source": [
        "#import import_ipynb\n",
        "from Boolean_Network import Network as Boolean_Network_Task\n",
        "from Node import Node as Node_Task"
      ],
      "metadata": {
        "id": "pZsABqMQndgu"
      },
      "execution_count": 3,
      "outputs": []
    },
    {
      "cell_type": "code",
      "source": [
        "from typing import List, Dict\n",
        "import random\n",
        "import math\n",
        "import numpy as np\n",
        "from typing import Optional"
      ],
      "metadata": {
        "id": "XKtR0ixyvfno"
      },
      "execution_count": 4,
      "outputs": []
    },
    {
      "cell_type": "code",
      "source": [
        "class Task:\n",
        "    \"\"\"\n",
        "    Represents a task in the network simulation, analogous to the 'Tarea' class in C#.\n",
        "    \"\"\"\n",
        "\n",
        "    def __init__(self):\n",
        "        \"\"\"\n",
        "        Initializes the Task with default values.\n",
        "        \"\"\"\n",
        "        self.InitialCondition: str = \"\"  # Binary string representing the initial state.\n",
        "        self.SignalNodes: List[int] = []  # List of nodes considered as signal nodes.\n",
        "        self.OptimalFunction: List[int] = []  # Target function to evaluate the task.\n",
        "        self.random = random.Random()  # Random number generator for reproducibility.\n",
        "        self.SignalNodesPercentage = 25  # Percentage of nodes to be designated as signal nodes.\n",
        "\n",
        "    def clone(self) -> 'Task':\n",
        "        \"\"\"\n",
        "        Creates a deep copy of the Task instance.\n",
        "\n",
        "        Returns:\n",
        "            Task: A new Task instance with the same values.\n",
        "        \"\"\"\n",
        "        clone = Task()\n",
        "        clone.InitialCondition = self.InitialCondition\n",
        "        clone.SignalNodes = list(self.SignalNodes)\n",
        "        clone.OptimalFunction = list(self.OptimalFunction)\n",
        "        return clone\n",
        "\n",
        "    def create_task(self, num_nodes: int, nT: int):\n",
        "        \"\"\"\n",
        "        Sets up the task by generating its initial condition, signal nodes, and optimal function.\n",
        "\n",
        "        Args:\n",
        "            num_nodes (int): Total number of nodes in the network.\n",
        "            nT (int): Length of the optimal function to be generated.\n",
        "        \"\"\"\n",
        "        self.InitialCondition = ''.join(random.choice('01') for _ in range(num_nodes))\n",
        "        self.SignalNodes = self.generate_signal_nodes(num_nodes, self.SignalNodesPercentage)\n",
        "        self.OptimalFunction = self.generate_optimal_function(nT, len(self.SignalNodes))\n",
        "\n",
        "    def generate_signal_nodes(self, num_nodes: int, percentage: int) -> List[int]:\n",
        "        \"\"\"\n",
        "        Randomly selects a subset of nodes to act as signal nodes.\n",
        "\n",
        "        Args:\n",
        "            num_nodes (int): Total number of nodes.\n",
        "            percentage (int): Percentage of nodes to be selected as signal nodes.\n",
        "\n",
        "        Returns:\n",
        "            List[int]: A list of selected signal node indices.\n",
        "        \"\"\"\n",
        "        num_signal_nodes = (num_nodes * percentage) // 100\n",
        "        all_nodes = list(range(num_nodes))\n",
        "        random.shuffle(all_nodes)\n",
        "        return all_nodes[:num_signal_nodes]\n",
        "\n",
        "    def generate_optimal_function(self, length: int, max_value: int) -> List[int]:\n",
        "        \"\"\"\n",
        "        Generates an optimal function as a list of random integers.\n",
        "\n",
        "        Args:\n",
        "            length (int): Length of the function.\n",
        "            max_value (int): Maximum allowable value for each element.\n",
        "\n",
        "        Returns:\n",
        "            List[int]: A list of integers forming the optimal function.\n",
        "        \"\"\"\n",
        "        out_list = []\n",
        "        for _ in range(length):\n",
        "            if max_value > 3:\n",
        "                val = self.random.randint(2, max_value - 2)\n",
        "            else:\n",
        "                # Fallback for small max_value\n",
        "                val = 0\n",
        "            out_list.append(val)\n",
        "        return out_list\n",
        "\n",
        "    def calculate_error(self, transient: List[str]) -> float:\n",
        "        \"\"\"\n",
        "        Calculates the mean squared error (MSE) between the optimal function and the signal sums.\n",
        "\n",
        "        Args:\n",
        "            transient (List[str]): A list of binary states representing the transient dynamics.\n",
        "\n",
        "        Returns:\n",
        "            float: The mean squared error.\n",
        "        \"\"\"\n",
        "        signal_sums = [self.calculate_signal_sum(state) for state in transient]\n",
        "        return self.mean_squared_error(self.OptimalFunction, signal_sums)\n",
        "\n",
        "    def calculate_signal_sum(self, state: str) -> int:\n",
        "        \"\"\"\n",
        "        Calculates the sum of signals for the current state based on signal nodes.\n",
        "\n",
        "        Args:\n",
        "            state (str): Binary string representing the current state.\n",
        "\n",
        "        Returns:\n",
        "            int: Sum of signals from the signal nodes.\n",
        "        \"\"\"\n",
        "        return sum(int(state[n]) for n in self.SignalNodes)\n",
        "\n",
        "    def mean_squared_error(self, target: List[int], actual: List[int]) -> float:\n",
        "        \"\"\"\n",
        "        Computes the mean squared error between two lists.\n",
        "\n",
        "        Args:\n",
        "            target (List[int]): The target values.\n",
        "            actual (List[int]): The actual values.\n",
        "\n",
        "        Returns:\n",
        "            float: The mean squared error.\n",
        "        \"\"\"\n",
        "        return float(np.mean((np.array(target) - np.array(actual)) ** 2))\n",
        "\n",
        "    def mutate(self):\n",
        "        \"\"\"\n",
        "        Mutates a random value in the OptimalFunction by replacing it with a new random value.\n",
        "        \"\"\"\n",
        "        if not self.OptimalFunction:\n",
        "            return\n",
        "        random_index = random.randint(0, len(self.OptimalFunction) - 1)\n",
        "        # Choose a new value within the same range as during creation.\n",
        "        if len(self.SignalNodes) > 3:\n",
        "            self.OptimalFunction[random_index] = random.randint(2, len(self.SignalNodes) - 2)\n"
      ],
      "metadata": {
        "id": "nCHP2hc6niQb"
      },
      "execution_count": 5,
      "outputs": []
    },
    {
      "cell_type": "code",
      "source": [
        "if __name__ == \"__main__\":\n",
        "    import numpy as np  # For error calculation.\n",
        "    import random  # For reproducibility.\n",
        "\n",
        "    # Set a seed for reproducibility\n",
        "    #random.seed(42)\n",
        "\n",
        "    # Create a Network\n",
        "    print(\"\\nCreating Network...\")\n",
        "    num_nodes = 50\n",
        "    connectivity = 2\n",
        "    network = Boolean_Network_Task()\n",
        "    network.create_network(num_nodes, connectivity)\n",
        "    print(\"Creating Task...\")\n",
        "\n",
        "    # Create a Task\n",
        "    task = Task()\n",
        "    nT = 5  # Number of steps for the transient\n",
        "    task.create_task(num_nodes, nT)\n",
        "    print(\"Task initial condition:\", task.InitialCondition)\n",
        "    print(\"Signal nodes:\", task.SignalNodes)\n",
        "    print(\"Optimal function:\", task.OptimalFunction)\n",
        "\n",
        "    # Calculate the transient\n",
        "    current_state = task.InitialCondition\n",
        "    transient = []  # Start with the initial state\n",
        "\n",
        "    for t in range(nT):\n",
        "        next_state = network.update_state(current_state)\n",
        "        transient.append(next_state)\n",
        "        current_state = next_state\n",
        "\n",
        "    # Print the transient\n",
        "    print(\"\\nTransient (all states):\")\n",
        "    for i, state in enumerate(transient):\n",
        "        print(f\"Step {i}: {state}\")\n",
        "\n",
        "    # Calculate the error between the transient and the optimal function\n",
        "    print(\"\\nCalculating error...\")\n",
        "    error = task.calculate_error(transient)\n",
        "    print(\"Mean Squared Error (MSE):\", error)\n",
        "\n",
        "    # Test cloning\n",
        "    print(\"\\nTesting cloning...\")\n",
        "    cloned_task = task.clone()\n",
        "    print(\"Cloned task initial condition:\", cloned_task.InitialCondition)\n",
        "    print(\"Cloned task signal nodes:\", cloned_task.SignalNodes)\n",
        "    print(\"Cloned task optimal function:\", cloned_task.OptimalFunction)\n",
        "\n",
        "    # Ensure cloned task is independent of the original\n",
        "    cloned_task.mutate()\n",
        "    print(\"\\nMutating cloned task...\")\n",
        "    print(\"Original task optimal function:\", task.OptimalFunction)\n",
        "    print(\"Cloned task optimal function:\", cloned_task.OptimalFunction)\n"
      ],
      "metadata": {
        "colab": {
          "base_uri": "https://localhost:8080/"
        },
        "id": "Z6NK9uM-v8Qg",
        "outputId": "59826724-b42a-4050-f6a3-a6499d618203"
      },
      "execution_count": 6,
      "outputs": [
        {
          "output_type": "stream",
          "name": "stdout",
          "text": [
            "\n",
            "Creating Network...\n",
            "Creating Task...\n",
            "Task initial condition: 01001000010101010000101000010011000000100110110011\n",
            "Signal nodes: [25, 22, 12, 5, 46, 10, 37, 1, 23, 21, 47, 14]\n",
            "Optimal function: [5, 5, 2, 5, 10]\n",
            "\n",
            "Transient (all states):\n",
            "Step 0: 00111000111010111000101010010011111011001100111100\n",
            "Step 1: 00111001110000101010001011011001011001001100110100\n",
            "Step 2: 00111000100101100010001001011001011001001100110101\n",
            "Step 3: 00111000101111101010101001011001011111001000110101\n",
            "Step 4: 00111001111000101010101001011101011111001000110101\n",
            "\n",
            "Calculating error...\n",
            "Mean Squared Error (MSE): 6.6\n",
            "\n",
            "Testing cloning...\n",
            "Cloned task initial condition: 01001000010101010000101000010011000000100110110011\n",
            "Cloned task signal nodes: [25, 22, 12, 5, 46, 10, 37, 1, 23, 21, 47, 14]\n",
            "Cloned task optimal function: [5, 5, 2, 5, 10]\n",
            "\n",
            "Mutating cloned task...\n",
            "Original task optimal function: [5, 5, 2, 5, 10]\n",
            "Cloned task optimal function: [5, 5, 2, 2, 10]\n"
          ]
        }
      ]
    },
    {
      "cell_type": "code",
      "source": [],
      "metadata": {
        "id": "7-XGfmYFkfvF"
      },
      "execution_count": 6,
      "outputs": []
    }
  ]
}