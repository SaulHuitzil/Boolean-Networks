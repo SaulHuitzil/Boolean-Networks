{
  "nbformat": 4,
  "nbformat_minor": 0,
  "metadata": {
    "colab": {
      "provenance": [],
      "authorship_tag": "ABX9TyN8VYUreMl1JXUndkv7lUEI",
      "include_colab_link": true
    },
    "kernelspec": {
      "name": "python3",
      "display_name": "Python 3"
    },
    "language_info": {
      "name": "python"
    }
  },
  "cells": [
    {
      "cell_type": "markdown",
      "metadata": {
        "id": "view-in-github",
        "colab_type": "text"
      },
      "source": [
        "<a href=\"https://colab.research.google.com/github/SaulHuitzil/Boolean-Networks/blob/main/TestShj01.ipynb\" target=\"_parent\"><img src=\"https://colab.research.google.com/assets/colab-badge.svg\" alt=\"Open In Colab\"/></a>"
      ]
    },
    {
      "cell_type": "code",
      "source": [
        "# MiClase dentro de un notebook\n",
        "class MiClase:\n",
        "    def __init__(self, nombre):\n",
        "        self.nombre = nombre\n",
        "\n",
        "    def saludar(self):\n",
        "        return f\"Hola, {self.nombre}!\"\n"
      ],
      "metadata": {
        "id": "qNTiJ6VSr2WI"
      },
      "execution_count": null,
      "outputs": []
    },
    {
      "cell_type": "code",
      "source": [
        "print(\"Ejemplo de cambios\")"
      ],
      "metadata": {
        "id": "OxdzTTGLr2Tp",
        "outputId": "d5d4c7ca-c11d-49c8-eeb1-be2868368cb3",
        "colab": {
          "base_uri": "https://localhost:8080/"
        }
      },
      "execution_count": 1,
      "outputs": [
        {
          "output_type": "stream",
          "name": "stdout",
          "text": [
            "Ejemplo de cambios\n"
          ]
        }
      ]
    },
    {
      "cell_type": "code",
      "source": [],
      "metadata": {
        "id": "cGRGQu7yr2RA"
      },
      "execution_count": null,
      "outputs": []
    },
    {
      "cell_type": "code",
      "source": [],
      "metadata": {
        "id": "JNbWuCqnr2Of"
      },
      "execution_count": null,
      "outputs": []
    }
  ]
}